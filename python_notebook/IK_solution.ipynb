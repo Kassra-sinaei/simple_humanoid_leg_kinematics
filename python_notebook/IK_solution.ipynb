{
 "cells": [
  {
   "cell_type": "markdown",
   "metadata": {},
   "source": [
    "Analytic Inverse kinematic solver for simplified model of leg"
   ]
  },
  {
   "cell_type": "code",
   "execution_count": 1,
   "metadata": {},
   "outputs": [],
   "source": [
    "import pybullet\n",
    "import time\n",
    "import pybullet_data\n",
    "import numpy as np"
   ]
  },
  {
   "cell_type": "code",
   "execution_count": 23,
   "metadata": {},
   "outputs": [],
   "source": [
    "phisycsClient = pybullet.connect(pybullet.GUI)\n",
    "pybullet.setAdditionalSearchPath(pybullet_data.getDataPath())"
   ]
  },
  {
   "cell_type": "markdown",
   "metadata": {},
   "source": [
    "Spawn the Robot..."
   ]
  },
  {
   "cell_type": "code",
   "execution_count": 24,
   "metadata": {},
   "outputs": [],
   "source": [
    "pybullet.resetSimulation()\n",
    "planeID = pybullet.loadURDF(\"plane.urdf\")\n",
    "pybullet.setGravity(0,0,-9.81)\n",
    "robotID = pybullet.loadURDF(\"simple_robot/urdf/simple_robot.urdf\",\n",
    "                         [0.0,0.0,0.6],pybullet.getQuaternionFromEuler([0.0,0.0,0.0]),useFixedBase = 1)\n",
    "pybullet.setRealTimeSimulation(1)"
   ]
  },
  {
   "cell_type": "markdown",
   "metadata": {},
   "source": [
    "Check Joints + Home"
   ]
  },
  {
   "cell_type": "code",
   "execution_count": 25,
   "metadata": {},
   "outputs": [
    {
     "name": "stdout",
     "output_type": "stream",
     "text": [
      "(0, b'base_hip_yaw_joint') -0.0003752423161250109\n",
      "(1, b'hip_yaw_roll_joint') 0.00022533768659312628\n",
      "(2, b'hip_roll_pitch_joint') -0.0776584757291836\n",
      "(3, b'hip_knee_joint') 0.16555246445952446\n",
      "(4, b'knee_ankle_pitch_joint') -0.08862138456102778\n",
      "(5, b'ankle_pitch_roll_joint') -0.0003447092816232101\n"
     ]
    }
   ],
   "source": [
    "for index in range(pybullet.getNumJoints(robotID)):\n",
    "    print(pybullet.getJointInfo(robotID,index)[0:2],\n",
    "          pybullet.getJointState(robotID,pybullet.getJointInfo(robotID,index)[0])[0])\n",
    "\n",
    "homeConfig = list([0,0,-20*np.pi/180,40*np.pi/180,-20*np.pi/180,0])\n",
    "for index in range(pybullet.getNumJoints(robotID)):\n",
    "    pybullet.setJointMotorControl2(bodyIndex=robotID,\n",
    "                            jointIndex=index,\n",
    "                            controlMode=pybullet.POSITION_CONTROL,\n",
    "                            targetPosition = homeConfig[index])"
   ]
  },
  {
   "cell_type": "markdown",
   "metadata": {},
   "source": [
    "Inverse Kinematic Solver (Bullet Built-in)"
   ]
  },
  {
   "cell_type": "code",
   "execution_count": 15,
   "metadata": {},
   "outputs": [],
   "source": [
    "## create simple trajectory for ankle\n",
    "trajectory = list(\"\")\n",
    "for i in range(300):\n",
    "    trajectory.append(np.array([0.0,-0.1+0.001*i,0.2]))\n",
    "## Solve IK and set Joint angles\n",
    "for i in range(300):\n",
    "    \n",
    "    config = pybullet.calculateInverseKinematics(robotID,5,\n",
    "                                                 trajectory[i],pybullet.getQuaternionFromEuler([0,0,np.pi/2])) \n",
    "    \"\"\"config = calculateIK(trajectory[i],[0,0,np.pi/2])\"\"\"\n",
    "    for index in range(pybullet.getNumJoints(robotID)):\n",
    "        pybullet.setJointMotorControl2(bodyIndex=robotID,\n",
    "                                jointIndex=index,\n",
    "                                controlMode=pybullet.POSITION_CONTROL,\n",
    "                                targetPosition = config[index])\n",
    "    time.sleep(0.02)"
   ]
  },
  {
   "cell_type": "markdown",
   "metadata": {},
   "source": [
    "Analytic IK Prerequisities"
   ]
  },
  {
   "cell_type": "code",
   "execution_count": 9,
   "metadata": {},
   "outputs": [],
   "source": [
    "def transformation(pos,attitude):\n",
    "    alpha,beta,gamma = attitude\n",
    "    x,y,z = pos\n",
    "    rot = np.array([[np.cos(alpha)*np.cos(beta),np.cos(alpha)*np.sin(beta)*np.sin(gamma)-np.sin(alpha)*np.cos(gamma),np.cos(alpha)*np.sin(beta)*np.cos(gamma)+np.sin(alpha)*np.sin(gamma)],\n",
    "                    [np.sin(alpha)*np.cos(beta),np.sin(alpha)*np.sin(beta)*np.sin(gamma)+np.cos(alpha)*np.cos(gamma),np.sin(alpha)*np.sin(beta)*np.cos(gamma)-np.cos(alpha)*np.sin(gamma)],\n",
    "                    [-np.sin(beta),np.cos(beta)*np.sin(gamma),np.cos(beta)*np.cos(gamma)]])\n",
    "    return np.array([[rot[0][0],rot[0][1],rot[0][2],x],\n",
    "                    [rot[1][0],rot[1][1],rot[1][2],y],\n",
    "                    [rot[2][0],rot[2][1],rot[2][2],z],\n",
    "                    [0,0,0,1]])"
   ]
  },
  {
   "cell_type": "markdown",
   "metadata": {},
   "source": [
    "Analytic Solution"
   ]
  },
  {
   "cell_type": "code",
   "execution_count": 28,
   "metadata": {},
   "outputs": [
    {
     "name": "stdout",
     "output_type": "stream",
     "text": [
      "(-0.003455616048737094, 0.7515827078433922, 1.889508099862356, -0.017026754002306542, -1.8617801660130933, -0.7533863385096443)\n",
      "-------------------------------------------\n",
      "[-6.80359332859641e-18, 1.5707963267948966, nan, nan, nan, -1.460139105621001]\n"
     ]
    },
    {
     "name": "stderr",
     "output_type": "stream",
     "text": [
      "/home/kassra/.local/lib/python3.6/site-packages/ipykernel_launcher.py:39: RuntimeWarning: invalid value encountered in sqrt\n"
     ]
    }
   ],
   "source": [
    "def calculateIK(pose,attitude):\n",
    "    l3 = 0.165\n",
    "    l4 = 0.135\n",
    "    l5 = 0.0\n",
    "\n",
    "    trans = np.linalg.inv(transformation(pose,attitude))\n",
    "    # Define n',s',a',p'\n",
    "    n = trans[0:3,0]\n",
    "    s = trans[0:3,1]\n",
    "    a = trans[0:3,2]\n",
    "    p = trans[0:3,3]\n",
    "    \n",
    "    \"\"\"print(trans)\n",
    "    print(s)\n",
    "    print(s)\n",
    "    print(p)\"\"\"\n",
    "    \n",
    "    r1 = pybullet.getEulerFromQuaternion(pybullet.getLinkState(robotID,1)[1])\n",
    "    x1 = -np.cos(r1[2])*np.sin(r1[1])*np.sin(r1[0])-np.sin(r1[2])*np.cos(r1[0])\n",
    "    z1 = np.cos(r1[1])*np.sin(r1[0])\n",
    "    r2 = pybullet.getEulerFromQuaternion(pybullet.getLinkState(robotID,2)[1])\n",
    "    x2 = -np.cos(r2[2])*np.sin(r2[1])*np.sin(r2[0])-np.sin(r2[2])*np.cos(r2[0])\n",
    "    r3 = pybullet.getEulerFromQuaternion(pybullet.getLinkState(robotID,3)[1])\n",
    "    z3 = np.cos(r3[1])*np.sin(r3[0])\n",
    "    x3 = -np.cos(r3[2])*np.sin(r3[1])*np.sin(r3[0])-np.sin(r3[2])*np.cos(r3[0])\n",
    "    r4 = pybullet.getEulerFromQuaternion(pybullet.getLinkState(robotID,4)[1])\n",
    "    x4 = -np.cos(r4[2])*np.sin(r4[1])*np.sin(r4[0])-np.sin(r4[2])*np.cos(r4[0])\n",
    "    r5 = pybullet.getEulerFromQuaternion(pybullet.getLinkState(robotID,5)[1])\n",
    "    x5 = -np.cos(r5[2])*np.sin(r5[1])*np.sin(r5[0])-np.sin(r5[2])*np.cos(r5[0])\n",
    "    \n",
    "    \n",
    "    KNEE = np.sign(np.dot([0,0,z3],np.cross([x3,0,0],[x4,0,0])))\n",
    "    ANKLE = np.sign(np.dot([0,0,z1],np.cross([x1,0,0],[x2,0,0])))\n",
    "    HIP = np.sign(np.dot(p,[x5,0,0]))\n",
    "\n",
    "    \n",
    "    # Calculate Theta 4\n",
    "    C4 = ((p[0] + l5)**2 + p[1]**2 + p[2]**2 - l3**2 - l4**2) / (2*l3*l4)\n",
    "    S4 = KNEE * np.sqrt((1 - C4**2))\n",
    "    theta4 = np.arctan2(S4,C4)\n",
    "    \n",
    "    # Calculate Theta 5\n",
    "    theta5 = np.arctan2( -p[2],ANKLE * np.sqrt((p[0]+l5)**2 + p[1]**2)) - np.arctan2(S4 * l3, C4 * l3 + l4)\n",
    "    \n",
    "    # Calculate Theta 6\n",
    "    theta6 = np.arctan2(p[1],-p[0] - l5)\n",
    "    if (np.cos(theta4 + theta5) * l3 + np.cos(theta5) * l4) < 0:\n",
    "        theta6 += np.pi\n",
    "    \n",
    "    # Calculate Theta 2\n",
    "    C2 = np.sin(theta6) * s[0] + np.cos(theta6) * s[1]\n",
    "    S2 = HIP * np.sqrt(1 - C2**2)\n",
    "    theta2 = np.arctan2(S2,C2)\n",
    "    \n",
    "    # Calculate Theta 1\n",
    "    theta1 = np.arctan2(-np.sin(theta6) * s[0] - np.cos(theta6)*s[1],\n",
    "                       -np.sin(theta6) * n[0] - np.cos(theta6)*n[1])\n",
    "    \n",
    "    # Calculate theta 3\n",
    "    theta3 = np.arctan2(a[2], np.cos(theta6) * a[0] - np.sin(theta6) * a[1]) - theta4 - theta5\n",
    "    \n",
    "    if S2 < 0:\n",
    "        theta1 += np.pi\n",
    "        theta3 += np.pi\n",
    "    \n",
    "    return ([theta1,theta2,theta3,theta4,theta5,theta6])\n",
    "\n",
    "print(pybullet.calculateInverseKinematics(robotID,5,\n",
    "                                        [0.0,0.1,0.45],pybullet.getQuaternionFromEuler([0,0,np.pi/2])))\n",
    "\n",
    "print(\"-------------------------------------------\")\n",
    "print(calculateIK([0.05,0.1,0.45],[0,0,np.pi/2]))"
   ]
  },
  {
   "cell_type": "markdown",
   "metadata": {},
   "source": [
    "Analytic(analistic) IK (by me)"
   ]
  },
  {
   "cell_type": "code",
   "execution_count": 30,
   "metadata": {},
   "outputs": [
    {
     "name": "stderr",
     "output_type": "stream",
     "text": [
      "/home/kassra/.local/lib/python3.6/site-packages/ipykernel_launcher.py:39: RuntimeWarning: invalid value encountered in sqrt\n"
     ]
    }
   ],
   "source": [
    "## Create Same trajectory\n",
    "trajectory = list(\"\")\n",
    "for i in range(300):\n",
    "    trajectory.append(np.array([0.0,-0.1+0.001*i,0.25]))\n",
    "## Solve IK and set Joint angles\n",
    "for i in range(300):\n",
    "    \n",
    "    config = calculateIK(trajectory[i],[0,0,np.pi/2])\n",
    "    for index in range(pybullet.getNumJoints(robotID)):\n",
    "        pybullet.setJointMotorControl2(bodyIndex=robotID,\n",
    "                                jointIndex=index,\n",
    "                                controlMode=pybullet.POSITION_CONTROL,\n",
    "                                targetPosition = config[index])\n",
    "    time.sleep(0.02)"
   ]
  },
  {
   "cell_type": "markdown",
   "metadata": {},
   "source": [
    "Shutdown"
   ]
  },
  {
   "cell_type": "code",
   "execution_count": 9,
   "metadata": {},
   "outputs": [],
   "source": [
    "pybullet.resetSimulation()"
   ]
  },
  {
   "cell_type": "code",
   "execution_count": 31,
   "metadata": {},
   "outputs": [],
   "source": [
    "pybullet.disconnect()"
   ]
  },
  {
   "cell_type": "code",
   "execution_count": 289,
   "metadata": {},
   "outputs": [],
   "source": [
    "pybullet.setJointMotorControl2(bodyIndex=robotID,\n",
    "                            jointIndex=1,\n",
    "                            controlMode=pybullet.POSITION_CONTROL,\n",
    "                            targetPosition = 0)"
   ]
  }
 ],
 "metadata": {
  "kernelspec": {
   "display_name": "Python 3",
   "language": "python",
   "name": "python3"
  },
  "language_info": {
   "codemirror_mode": {
    "name": "ipython",
    "version": 3
   },
   "file_extension": ".py",
   "mimetype": "text/x-python",
   "name": "python",
   "nbconvert_exporter": "python",
   "pygments_lexer": "ipython3",
   "version": "3.6.9"
  }
 },
 "nbformat": 4,
 "nbformat_minor": 4
}
