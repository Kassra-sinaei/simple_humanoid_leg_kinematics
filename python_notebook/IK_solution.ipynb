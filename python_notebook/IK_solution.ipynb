{
 "cells": [
  {
   "cell_type": "markdown",
   "metadata": {},
   "source": [
    "Analytic Inverse kinematic solver for simplified model of leg"
   ]
  },
  {
   "cell_type": "code",
   "execution_count": 2,
   "metadata": {},
   "outputs": [],
   "source": [
    "import pybullet\n",
    "import time\n",
    "import pybullet_data\n",
    "import numpy as np"
   ]
  },
  {
   "cell_type": "code",
   "execution_count": 27,
   "metadata": {},
   "outputs": [],
   "source": [
    "phisycsClient = pybullet.connect(pybullet.GUI)\n",
    "pybullet.setAdditionalSearchPath(pybullet_data.getDataPath())"
   ]
  },
  {
   "cell_type": "markdown",
   "metadata": {},
   "source": [
    "Spawn the Robot..."
   ]
  },
  {
   "cell_type": "code",
   "execution_count": 115,
   "metadata": {},
   "outputs": [],
   "source": [
    "pybullet.resetSimulation()\n",
    "planeID = pybullet.loadURDF(\"plane.urdf\")\n",
    "pybullet.setGravity(0,0,-9.81)\n",
    "robotID = pybullet.loadURDF(\"simple_robot/urdf/simple_robot.urdf\",\n",
    "                         [0.0,0.0,0.8],pybullet.getQuaternionFromEuler([0.0,0.0,-np.pi/2]),useFixedBase = 1)\n",
    "pybullet.setRealTimeSimulation(1)"
   ]
  },
  {
   "cell_type": "markdown",
   "metadata": {},
   "source": [
    "Check Joints + Home"
   ]
  },
  {
   "cell_type": "code",
   "execution_count": 108,
   "metadata": {},
   "outputs": [
    {
     "name": "stdout",
     "output_type": "stream",
     "text": [
      "(0, b'base_hip_yaw_joint') 7.855645070348279e-05\n",
      "(1, b'hip_yaw_roll_joint') 0.005903000906134951\n",
      "(2, b'hip_roll_pitch_joint') -0.3607959571203137\n",
      "(3, b'hip_knee_joint') 1.4602315725390413\n",
      "(4, b'knee_ankle_pitch_joint') 0.18847356271783167\n",
      "(5, b'ankle_pitch_roll_joint') 0.04118704290322368\n"
     ]
    }
   ],
   "source": [
    "for index in range(pybullet.getNumJoints(robotID)):\n",
    "    print(pybullet.getJointInfo(robotID,index)[0:2],\n",
    "          pybullet.getJointState(robotID,pybullet.getJointInfo(robotID,index)[0])[0])\n",
    "\n",
    "homeConfig = list([0,0,-20*np.pi/180,40*np.pi/180,-20*np.pi/180,0])\n",
    "for index in range(pybullet.getNumJoints(robotID)):\n",
    "    pybullet.setJointMotorControl2(bodyIndex=robotID,\n",
    "                            jointIndex=index,\n",
    "                            controlMode=pybullet.POSITION_CONTROL,\n",
    "                            targetPosition = homeConfig[index])"
   ]
  },
  {
   "cell_type": "markdown",
   "metadata": {},
   "source": [
    "Inverse Kinematic Solver (Bullet Built-in)"
   ]
  },
  {
   "cell_type": "code",
   "execution_count": 94,
   "metadata": {},
   "outputs": [],
   "source": [
    "## create simple trajectory for ankle\n",
    "trajectory = list(\"\")\n",
    "for i in range(300):\n",
    "    trajectory.append(np.array([0.0,-0.1+0.001*i,0.15]))\n",
    "## Solve IK and set Joint angles\n",
    "for i in range(300):\n",
    "    \n",
    "    config = pybullet.calculateInverseKinematics(robotID,5,\n",
    "                                                 trajectory[i],pybullet.getQuaternionFromEuler([0,0,np.pi/2])) \n",
    "    \"\"\"config = calculateIK(trajectory[i],[0,0,np.pi/2])\"\"\"\n",
    "    for index in range(pybullet.getNumJoints(robotID)):\n",
    "        pybullet.setJointMotorControl2(bodyIndex=robotID,\n",
    "                                jointIndex=index,\n",
    "                                controlMode=pybullet.POSITION_CONTROL,\n",
    "                                targetPosition = config[index])\n",
    "    time.sleep(0.02)"
   ]
  },
  {
   "cell_type": "markdown",
   "metadata": {},
   "source": [
    "Inverse Malek"
   ]
  },
  {
   "cell_type": "code",
   "execution_count": null,
   "metadata": {},
   "outputs": [],
   "source": [
    "L1 = 0.135\n",
    "L2 = 0.155\n",
    "\n",
    "def malek_IK(X,Y,Z,theta1):\n",
    "    theta4 = np.arccos(X**2 + Y**2  + Z**2 - L1**2 - L2**2)/(2*L1*L2)\n",
    "    theta2 = np.arctan(Y/(-X * np.sin(theta1) - Z * np.cos(theta1)))\n",
    "    \n",
    "    k1 = L1 + L2 * np.cos(theta4)\n",
    "    k2 = L2 * np.sin(theta4)\n",
    "    A = k1 * np.sin(theta3) - k2 * np.sin(theta3)\n",
    "    B = k1 * np.sin(theta3) + k2 * np.sin(theta3)\n",
    "    \n",
    "    theta5 = np.arctan(-np.tan(theta5)np.cos(theta5))"
   ]
  },
  {
   "cell_type": "markdown",
   "metadata": {},
   "source": [
    "Geometric (Kajita)"
   ]
  },
  {
   "cell_type": "code",
   "execution_count": 174,
   "metadata": {},
   "outputs": [
    {
     "name": "stdout",
     "output_type": "stream",
     "text": [
      "[[ 6.123234e-17  0.000000e+00  1.000000e+00]\n",
      " [ 0.000000e+00  1.000000e+00  0.000000e+00]\n",
      " [-1.000000e+00  0.000000e+00  6.123234e-17]]\n"
     ]
    }
   ],
   "source": [
    "def Rroll(phi):\n",
    "    R = np.eye(3)\n",
    "    R[1,1] = np.cos(phi)\n",
    "    R[1,2] = -np.sin(phi)\n",
    "    R[2,1] = np.sin(phi)\n",
    "    R[2,2] = np.cos(phi)\n",
    "    return R\n",
    "\n",
    "def Rpitch(theta):\n",
    "    R = np.eye(3)\n",
    "    R[0,0] = np.cos(theta)\n",
    "    R[0,2] = np.sin(theta)\n",
    "    R[2,0] = -np.sin(theta)\n",
    "    R[2,2] = np.cos(theta)\n",
    "    return R\n",
    "\n",
    "print(Rpitch(np.pi/2))"
   ]
  },
  {
   "cell_type": "code",
   "execution_count": 186,
   "metadata": {},
   "outputs": [
    {
     "name": "stdout",
     "output_type": "stream",
     "text": [
      "(1.5703675031282334, 0.03162130279679448, -0.9241153113708983, 1.5972585219175928, -0.6790858713194319, -0.03214143750793551)\n",
      "-------------------------------------------\n",
      "[-1.5707963267948966, 0.0, -0.8157489848799928, 1.80593198240334, 0.5806133292715496, -1.5707963267948966]\n"
     ]
    }
   ],
   "source": [
    "def geometric_ik(p1,R1,p7,R7, A , d, B):\n",
    "    \"\"\"\n",
    "        inputs:\n",
    "            a -----------> Length of Hip\n",
    "            b -----------> length of Shank\n",
    "            (p1, R1) ----> position and attitude of body\n",
    "            (p7, R7) ----> position and attitude of right foot\n",
    "        output\n",
    "            joint angles --> q = [q2,q3,q4,q5,q6,q7]\n",
    "    \"\"\"\n",
    "    D = np.array([0,d,0])\n",
    "    #E = np.array([0,0,e])\n",
    "    r = np.matmul(R7.T , (p1 + np.matmul(R1 , D) - p7))\n",
    "    C = np.sqrt(r[0]**2 + r[1]**2 +r[2]**2)\n",
    "    c5 = (C**2 - A**2 - B**2) / (2*A*B)\n",
    "    if c5 >= 1:\n",
    "        q5 = 0.0\n",
    "    elif c5 <= -1:\n",
    "        q5 = np.pi\n",
    "    else:\n",
    "        q5 = np.arccos(c5) # Knee Pitch    \n",
    "    q6a = np.arcsin((A/C)*np.sin(np.pi-q5)) # Ankle Pitch Sub\n",
    "    q7 = np.arctan2(r[1],r[2]) # Ankle Roll\n",
    "    if q7 > np.pi/2:\n",
    "        q7 -= np.pi\n",
    "    elif q7 < -np.pi/2:\n",
    "        q7 += np.pi\n",
    "    q6 = -np.arctan2(r[0], np.sign(r[2]) * np.sqrt(r[1]**2 + r[2]**2)) - q6a # Ankle Pitch\n",
    "    \n",
    "    R = np.matmul(R1.T , np.matmul(R7 , np.matmul(Rroll(-q7) , Rpitch(-q6-q5))))\n",
    "    q2 = np.arctan2(-R[0,1], R[1,1]) # Hip Yaw\n",
    "    q3 = np.arctan2(R[2,1], -R[0,1] * np.sin(q2) + R[1,1] * np.cos(q2))  # Hip Roll\n",
    "    q4 = np.arctan2(-R[2,0], R[2,2]) # Hip Pitch\n",
    "                     \n",
    "    return([q2,q3,q4,q5,q6,q7])\n",
    "\n",
    "print(pybullet.calculateInverseKinematics(robotID,5,\n",
    "                                        [0.0,0.1,0.45],pybullet.getQuaternionFromEuler([0,0,np.pi/2])))\n",
    "\n",
    "print(\"-------------------------------------------\")\n",
    "r1 = np.eye(3)\n",
    "r2 = np.array([[0,0,1],\n",
    "              [0,1,0],\n",
    "              [-1,0,0]])\n",
    "print(geometric_ik([0.0,0.0,0.6],r1,[0,0.1,0.45],r2,0.155,0,0.135))"
   ]
  },
  {
   "cell_type": "markdown",
   "metadata": {},
   "source": [
    "Test Geometric Solution"
   ]
  },
  {
   "cell_type": "code",
   "execution_count": 197,
   "metadata": {},
   "outputs": [],
   "source": [
    "## Create Same trajectory\n",
    "trajectory = list(\"\")\n",
    "for i in range(200):\n",
    "    trajectory.append(np.array([-0.2 + 0.002*i,0.0,0.4]))\n",
    "    \n",
    "# define rotation matrix of foot attitude and base attitude\n",
    "r2 = np.eye(3)\n",
    "r1 = np.eye(3)\n",
    "## Solve IK and set Joint angles\n",
    "for i in range(200):\n",
    "    \n",
    "    config = geometric_ik([0.0,0.0,0.8-0.21],r1,trajectory[i],r2,0.155,0,0.135)\n",
    "    for index in range(pybullet.getNumJoints(robotID)):\n",
    "        pybullet.setJointMotorControl2(bodyIndex=robotID,\n",
    "                                jointIndex=index,\n",
    "                                controlMode=pybullet.POSITION_CONTROL,\n",
    "                                targetPosition = config[index])\n",
    "    time.sleep(0.02)"
   ]
  },
  {
   "cell_type": "code",
   "execution_count": 194,
   "metadata": {},
   "outputs": [],
   "source": [
    "r2 = np.eye(3)\n",
    "r1 = np.eye(3)\n",
    "Config = geometric_ik([0.0,0.0,0.8-0.21],r1,[0.1,0.0,0.4],r2,0.155,0,0.135)\n",
    "for index in range(pybullet.getNumJoints(robotID)):\n",
    "    pybullet.setJointMotorControl2(bodyIndex=robotID,\n",
    "                            jointIndex=index,\n",
    "                            controlMode=pybullet.POSITION_CONTROL,\n",
    "                            targetPosition = Config[index])"
   ]
  },
  {
   "cell_type": "markdown",
   "metadata": {},
   "source": [
    "Analytic IK Prerequisities"
   ]
  },
  {
   "cell_type": "code",
   "execution_count": 58,
   "metadata": {},
   "outputs": [
    {
     "name": "stdout",
     "output_type": "stream",
     "text": [
      "[[ 1.  0.  0.  0.]\n",
      " [ 0.  1.  0.  0.]\n",
      " [-0.  0.  1.  0.]\n",
      " [ 0.  0.  0.  1.]]\n"
     ]
    }
   ],
   "source": [
    "def transformation(pos,attitude):\n",
    "    alpha,beta,gamma = attitude\n",
    "    x,y,z = pos\n",
    "    rot = np.array([[np.cos(alpha)*np.cos(beta),np.cos(alpha)*np.sin(beta)*np.sin(gamma)-np.sin(alpha)*np.cos(gamma),np.cos(alpha)*np.sin(beta)*np.cos(gamma)+np.sin(alpha)*np.sin(gamma)],\n",
    "                    [np.sin(alpha)*np.cos(beta),np.sin(alpha)*np.sin(beta)*np.sin(gamma)+np.cos(alpha)*np.cos(gamma),np.sin(alpha)*np.sin(beta)*np.cos(gamma)-np.cos(alpha)*np.sin(gamma)],\n",
    "                    [-np.sin(beta),np.cos(beta)*np.sin(gamma),np.cos(beta)*np.cos(gamma)]])\n",
    "    return np.array([[rot[0][0],rot[0][1],rot[0][2],x],\n",
    "                    [rot[1][0],rot[1][1],rot[1][2],y],\n",
    "                    [rot[2][0],rot[2][1],rot[2][2],z],\n",
    "                    [0,0,0,1]])\n",
    "print(transformation([0,0,0],[0,0,0]))"
   ]
  },
  {
   "cell_type": "markdown",
   "metadata": {},
   "source": [
    "Analytic Solution"
   ]
  },
  {
   "cell_type": "code",
   "execution_count": 324,
   "metadata": {},
   "outputs": [
    {
     "name": "stdout",
     "output_type": "stream",
     "text": [
      "(3.839731376338733e-05, -0.0008178495522937044, -1.1473830428648575, 1.211377370602843, -0.07120384387897707, 0.0006847750267498607)\n",
      "-------------------------------------------\n",
      "[6.8035933285964025e-18, 1.5707963267948966, 0.0, 1.5707963267948966, -1.5707963267948966, -1.6814535479687922]\n"
     ]
    }
   ],
   "source": [
    "def calculateIK(pose,attitude):\n",
    "    l3 = 0.155\n",
    "    l4 = 0.135\n",
    "    l5 = 0.1\n",
    "\n",
    "    trans = np.linalg.inv(transformation(pose,attitude))\n",
    "    # Define n',s',a',p'\n",
    "    n = trans[0:3,0]\n",
    "    s = trans[0:3,1]\n",
    "    a = trans[0:3,2]\n",
    "    p = trans[0:3,3]\n",
    "    \n",
    "    \"\"\"print(trans)\n",
    "    print(s)\n",
    "    print(s)\n",
    "    print(p)\"\"\"\n",
    "    \n",
    "    r1 = pybullet.getEulerFromQuaternion(pybullet.getLinkState(robotID,1)[1])\n",
    "    x1 = -np.cos(r1[2])*np.sin(r1[1])*np.sin(r1[0])-np.sin(r1[2])*np.cos(r1[0])\n",
    "    z1 = np.cos(r1[1])*np.sin(r1[0])\n",
    "    r2 = pybullet.getEulerFromQuaternion(pybullet.getLinkState(robotID,2)[1])\n",
    "    x2 = -np.cos(r2[2])*np.sin(r2[1])*np.sin(r2[0])-np.sin(r2[2])*np.cos(r2[0])\n",
    "    r3 = pybullet.getEulerFromQuaternion(pybullet.getLinkState(robotID,3)[1])\n",
    "    z3 = np.cos(r3[1])*np.sin(r3[0])\n",
    "    x3 = -np.cos(r3[2])*np.sin(r3[1])*np.sin(r3[0])-np.sin(r3[2])*np.cos(r3[0])\n",
    "    r4 = pybullet.getEulerFromQuaternion(pybullet.getLinkState(robotID,4)[1])\n",
    "    x4 = -np.cos(r4[2])*np.sin(r4[1])*np.sin(r4[0])-np.sin(r4[2])*np.cos(r4[0])\n",
    "    r5 = pybullet.getEulerFromQuaternion(pybullet.getLinkState(robotID,5)[1])\n",
    "    x5 = -np.cos(r5[2])*np.sin(r5[1])*np.sin(r5[0])-np.sin(r5[2])*np.cos(r5[0])\n",
    "    \n",
    "    \n",
    "    KNEE = np.sign(np.dot([0,0,z3],np.cross([x3,0,0],[x4,0,0])))\n",
    "    ANKLE = np.sign(np.dot([0,0,z1],np.cross([x1,0,0],[x2,0,0])))\n",
    "    HIP = np.sign(np.dot(p,[x5,0,0]))\n",
    "\n",
    "    \n",
    "    # Calculate Theta 4\n",
    "    C4 = ((p[0] + l5)**2 + p[1]**2 + p[2]**2 - l3**2 - l4**2) / (2*l3*l4)\n",
    "    S4 = KNEE * np.sqrt(abs(1 - C4**2))\n",
    "    theta4 = np.arctan2(C4,S4)\n",
    "    \n",
    "    # Calculate Theta 5\n",
    "    theta5 = np.arctan2( -p[2],ANKLE * np.sqrt((p[0]+l5)**2 + p[1]**2)) - np.arctan2(S4 * l3, C4 * l3 + l4)\n",
    "    \n",
    "    # Calculate Theta 6\n",
    "    theta6 = np.arctan2(p[1],-p[0] - l5)\n",
    "    if (np.cos(theta4 + theta5) * l3 + np.cos(theta5) * l4) < 0:\n",
    "        theta6 += np.pi\n",
    "    \n",
    "    # Calculate Theta 2\n",
    "    C2 = np.sin(theta6) * s[0] + np.cos(theta6) * s[1]\n",
    "    S2 = HIP * np.sqrt(1 - C2**2)\n",
    "    theta2 = np.arctan2(S2,C2)\n",
    "    \n",
    "    # Calculate Theta 1\n",
    "    theta1 = np.arctan2(-np.sin(theta6) * s[0] - np.cos(theta6)*s[1],\n",
    "                       -np.sin(theta6) * n[0] - np.cos(theta6)*n[1])\n",
    "    \n",
    "    # Calculate theta 3\n",
    "    theta3 = np.arctan2(a[2], np.cos(theta6) * a[0] - np.sin(theta6) * a[1]) - theta4 - theta5\n",
    "    \n",
    "    if S2 < 0:\n",
    "        theta1 += np.pi\n",
    "        theta3 += np.pi\n",
    "    \n",
    "    return ([theta1,theta2,theta3,theta4,theta5,theta6])\n",
    "\n",
    "print(pybullet.calculateInverseKinematics(robotID,5,\n",
    "                                        [0.0,0.1,0.45],pybullet.getQuaternionFromEuler([0,0,np.pi/2])))\n",
    "\n",
    "print(\"-------------------------------------------\")\n",
    "print(calculateIK([0.05,0.1,0.45],[0,0,np.pi/2]))"
   ]
  },
  {
   "cell_type": "markdown",
   "metadata": {},
   "source": [
    "Analytic(analistic) IK (by me)"
   ]
  },
  {
   "cell_type": "code",
   "execution_count": 316,
   "metadata": {},
   "outputs": [],
   "source": [
    "## Create Same trajectory\n",
    "trajectory = list(\"\")\n",
    "for i in range(300):\n",
    "    trajectory.append(np.array([0.0,-0.1+0.001*i,0.15]))\n",
    "## Solve IK and set Joint angles\n",
    "for i in range(300):\n",
    "    \n",
    "    config = calculateIK(trajectory[i],[0,0,np.pi/2])\n",
    "    for index in range(pybullet.getNumJoints(robotID)):\n",
    "        pybullet.setJointMotorControl2(bodyIndex=robotID,\n",
    "                                jointIndex=index,\n",
    "                                controlMode=pybullet.POSITION_CONTROL,\n",
    "                                targetPosition = config[index])\n",
    "    time.sleep(0.02)"
   ]
  },
  {
   "cell_type": "markdown",
   "metadata": {},
   "source": [
    "Shutdown"
   ]
  },
  {
   "cell_type": "code",
   "execution_count": 81,
   "metadata": {},
   "outputs": [],
   "source": [
    "pybullet.resetSimulation()"
   ]
  },
  {
   "cell_type": "code",
   "execution_count": 198,
   "metadata": {},
   "outputs": [],
   "source": [
    "pybullet.disconnect()"
   ]
  },
  {
   "cell_type": "code",
   "execution_count": 289,
   "metadata": {},
   "outputs": [],
   "source": [
    "pybullet.setJointMotorControl2(bodyIndex=robotID,\n",
    "                            jointIndex=1,\n",
    "                            controlMode=pybullet.POSITION_CONTROL,\n",
    "                            targetPosition = 0)"
   ]
  },
  {
   "cell_type": "code",
   "execution_count": null,
   "metadata": {},
   "outputs": [],
   "source": [
    "print(np.arctan2())"
   ]
  }
 ],
 "metadata": {
  "kernelspec": {
   "display_name": "Python 3",
   "language": "python",
   "name": "python3"
  },
  "language_info": {
   "codemirror_mode": {
    "name": "ipython",
    "version": 3
   },
   "file_extension": ".py",
   "mimetype": "text/x-python",
   "name": "python",
   "nbconvert_exporter": "python",
   "pygments_lexer": "ipython3",
   "version": "3.7.6"
  }
 },
 "nbformat": 4,
 "nbformat_minor": 4
}
